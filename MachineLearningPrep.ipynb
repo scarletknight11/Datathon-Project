{
 "cells": [
  {
   "cell_type": "code",
   "execution_count": 98,
   "id": "8396d4de-db18-48f5-ade5-9a0d44f5c393",
   "metadata": {},
   "outputs": [],
   "source": [
    "import tensorflow\n",
    "import keras\n",
    "import pandas as pd\n",
    "import numpy as np\n",
    "import sklearn\n",
    "from sklearn import linear_model\n",
    "from sklearn.utils import shuffle\n",
    "import matplotlib.pyplot as pyplot\n",
    "import pickle\n",
    "from matplotlib import style"
   ]
  },
  {
   "cell_type": "code",
   "execution_count": 99,
   "id": "0cf83224-c60d-4675-94db-ab70a498f83c",
   "metadata": {},
   "outputs": [],
   "source": [
    "data = pd.read_csv(\"student-mat.csv\", sep=\";\")"
   ]
  },
  {
   "cell_type": "code",
   "execution_count": 100,
   "id": "6980ad49-57c2-4241-be0f-5939381f9b22",
   "metadata": {},
   "outputs": [
    {
     "name": "stdout",
     "output_type": "stream",
     "text": [
      "  school sex  age address famsize Pstatus  Medu  Fedu     Mjob      Fjob  ...  \\\n",
      "0     GP   F   18       U     GT3       A     4     4  at_home   teacher  ...   \n",
      "1     GP   F   17       U     GT3       T     1     1  at_home     other  ...   \n",
      "2     GP   F   15       U     LE3       T     1     1  at_home     other  ...   \n",
      "3     GP   F   15       U     GT3       T     4     2   health  services  ...   \n",
      "4     GP   F   16       U     GT3       T     3     3    other     other  ...   \n",
      "\n",
      "  famrel freetime  goout  Dalc  Walc health absences  G1  G2  G3  \n",
      "0      4        3      4     1     1      3        6   5   6   6  \n",
      "1      5        3      3     1     1      3        4   5   5   6  \n",
      "2      4        3      2     2     3      3       10   7   8  10  \n",
      "3      3        2      2     1     1      5        2  15  14  15  \n",
      "4      4        3      2     1     2      5        4   6  10  10  \n",
      "\n",
      "[5 rows x 33 columns]\n"
     ]
    }
   ],
   "source": [
    "print(data.head()) "
   ]
  },
  {
   "cell_type": "code",
   "execution_count": 126,
   "id": "9a03b13f-5b60-4d2d-8b71-e539493825f1",
   "metadata": {},
   "outputs": [],
   "source": [
    "data = data[[\"G1\", \"G2\", \"G3\", \"studytime\", \"failures\", \"absences\"]]"
   ]
  },
  {
   "cell_type": "code",
   "execution_count": 127,
   "id": "1dd2f419-2497-44bf-9108-bf6a43ec674b",
   "metadata": {},
   "outputs": [],
   "source": [
    "predict = \"G3\""
   ]
  },
  {
   "cell_type": "code",
   "execution_count": 128,
   "id": "262a44ca-0641-4df7-81b0-1d1453fe9020",
   "metadata": {},
   "outputs": [],
   "source": [
    "x = np.array(data.drop([predict], 1))\n",
    "y = np.array(data[predict])\n",
    "x_train, x_test, y_train, y_test = sklearn.model_selection.train_test_split(x, y, test_size = 0.1)\n",
    "\n",
    "'''\n",
    "best = 0\n",
    "for _ in range(30):\n",
    "    x_train, x_test, y_train, y_test = sklearn.model_selection.train_test_split(x, y, test_size = 0.1)\n",
    "    \n",
    "    linear = linear_model.LinearRegression()\n",
    "    \n",
    "    linear.fit(x_train, y_train)\n",
    "    acc = linear.score(x_test, y_test) \n",
    "    print(acc) \n",
    "    \n",
    "    \n",
    "    if acc > best:\n",
    "        best = acc\n",
    "        with open(\"studentmodel.pickle\", \"wb\") as f:\n",
    "            pickle.dump(linear, f)'''\n",
    "\n",
    "pickle_in = open(\"studentmodel.pickle\", \"rb\")\n",
    "linear = pickle.load(pickle_in)"
   ]
  },
  {
   "cell_type": "code",
   "execution_count": 130,
   "id": "fd97e2bf-ebb9-4e12-acc9-fbddf2f2b291",
   "metadata": {},
   "outputs": [
    {
     "name": "stdout",
     "output_type": "stream",
     "text": [
      "Coefficient: \n",
      " [ 0.17204408  0.97062316 -0.21886955 -0.30434085  0.03831738]\n",
      "Intercept: \n",
      " -1.5636454389453913\n"
     ]
    }
   ],
   "source": [
    "print(\"Coefficient: \\n\",  linear.coef_)\n",
    "print(\"Intercept: \\n\", linear.intercept_)"
   ]
  },
  {
   "cell_type": "code",
   "execution_count": 131,
   "id": "a0108aeb-8e61-4cf3-b89c-cbc615920a40",
   "metadata": {},
   "outputs": [],
   "source": [
    "predicitions = linear.predict(x_test)\n",
    "# going to take array and do ton of predictions and guess"
   ]
  },
  {
   "cell_type": "code",
   "execution_count": 132,
   "id": "8f96cdef-2de5-42ec-8a3b-d11fd8a11a8e",
   "metadata": {},
   "outputs": [
    {
     "name": "stdout",
     "output_type": "stream",
     "text": [
      "8.312429858370384 [10  9  3  0  2] 9\n",
      "7.932815317750608 [10  8  1  0  6] 11\n",
      "4.63685079475646 [7 6 1 2 0] 0\n",
      "8.454664642125923 [10  9  2  0  0] 9\n",
      "6.950893079360327 [9 8 4 0 2] 8\n",
      "10.739999108155969 [12 11  2  0  0] 12\n",
      "7.7327203232027575 [11  8  2  0  2] 8\n",
      "4.371086923899108 [6 5 1 0 7] 6\n",
      "12.825678407887466 [12 13  1  1  6] 14\n",
      "-1.8353171467886724 [5 0 1 3 0] 0\n",
      "13.734589264014053 [13 13  2  0 23] 13\n",
      "8.389064620609883 [10  9  3  0  4] 9\n",
      "10.472545718543106 [10 11  2  0  2] 12\n",
      "15.091798494221022 [16 15  3  0  0] 15\n",
      "9.578557323693762 [10 10  2  0  4] 11\n",
      "10.644589794469287 [11 11  2  0  2] 11\n",
      "10.712388017783603 [11 11  1  1  6] 10\n",
      "15.693841851413547 [16 15  2  0 10] 15\n",
      "8.589159615157733 [9 9 2 0 8] 9\n",
      "19.400771509044233 [18 18  1  1 24] 18\n",
      "16.185881883618222 [15 16  2  0  2] 16\n",
      "18.222537511482592 [16 18  2  0  0] 18\n",
      "-1.8353171467886724 [5 0 1 3 0] 0\n",
      "9.501922561454263 [10 10  2  0  2] 11\n",
      "6.710393880167681 [6 8 1 1 0] 8\n",
      "11.241315507535127 [ 8 12  1  0  0] 12\n",
      "-0.28094377167366247 [10  0  2  0  0] 0\n",
      "11.921752000516117 [11 12  2  0 10] 13\n",
      "14.575666266442484 [13 15  3  0  0] 15\n",
      "12.757880184573152 [12 13  2  0  2] 13\n",
      "8.512524852918235 [9 9 2 0 6] 10\n",
      "15.387302802455556 [16 15  2  0  2] 15\n",
      "8.890381019989041 [ 6 10  2  0  4] 10\n",
      "12.681245422333655 [12 13  2  0  0] 13\n",
      "14.966579888363698 [14 15  2  0  0] 15\n",
      "11.787257027484308 [12 12  2  0  2] 11\n",
      "12.929924260499332 [13 13  2  0  2] 11\n",
      "4.171760207576636 [ 5  5  2  0 12] 5\n",
      "11.834082497553164 [11 12  1  0  2] 11\n",
      "7.913119525773288 [ 6  9  1  2 14] 8\n"
     ]
    }
   ],
   "source": [
    "for x in range(len(predicitions)):\n",
    "    print(predicitions[x], x_test[x], y_test[x])"
   ]
  },
  {
   "cell_type": "code",
   "execution_count": 135,
   "id": "41d3ef76-3cdb-4d7a-a726-213fd3758819",
   "metadata": {},
   "outputs": [
    {
     "data": {
      "image/png": "[encoded data removed]",
      "text/plain": [
       "<Figure size 432x288 with 1 Axes>"
      ]
     },
     "metadata": {},
     "output_type": "display_data"
    }
   ],
   "source": [
    "p = \"absences\"\n",
    "style.use(\"ggplot\")\n",
    "pyplot.scatter(data[p], data[\"G3\"])\n",
    "pyplot.xlabel(p)\n",
    "pyplot.ylabel(\"Final Grade\")\n",
    "pyplot.show()"
   ]
  },
  {
   "cell_type": "code",
   "execution_count": null,
   "id": "28378d30-7633-47f7-89c6-4b09f741333e",
   "metadata": {},
   "outputs": [],
   "source": []
  },
  {
   "cell_type": "code",
   "execution_count": null,
   "id": "01b8a36b-cd5c-4f22-8183-2fee9f9e39c5",
   "metadata": {},
   "outputs": [],
   "source": []
  }
 ],
 "metadata": {
  "kernelspec": {
   "display_name": "Python 3",
   "language": "python",
   "name": "python3"
  },
  "language_info": {
   "codemirror_mode": {
    "name": "ipython",
    "version": 3
   },
   "file_extension": ".py",
   "mimetype": "text/x-python",
   "name": "python",
   "nbconvert_exporter": "python",
   "pygments_lexer": "ipython3",
   "version": "3.8.8"
  }
 },
 "nbformat": 4,
 "nbformat_minor": 5
}
