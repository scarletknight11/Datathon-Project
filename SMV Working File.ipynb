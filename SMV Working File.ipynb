{
 "cells": [
  {
   "cell_type": "code",
   "execution_count": 64,
   "id": "1bb36c56-047a-4bf1-93ec-25c87e36e264",
   "metadata": {},
   "outputs": [],
   "source": [
    "import sklearn\n",
    "from sklearn.utils import shuffle\n",
    "from sklearn.neighbors import KNeighborsClassifier\n",
    "import sklearn.metrics as metrics\n",
    "from sklearn import datasets\n",
    "from sklearn import svm\n",
    "import pandas as pd\n",
    "import numpy as np"
   ]
  },
  {
   "cell_type": "code",
   "execution_count": 65,
   "id": "ab71f574-1982-4d8d-8e17-4e0c249f7b68",
   "metadata": {},
   "outputs": [],
   "source": [
    "cancer = datasets.load_breast_cancer()"
   ]
  },
  {
   "cell_type": "code",
   "execution_count": 66,
   "id": "187ff3a6-9db0-40b7-b51a-3dab8a7ad681",
   "metadata": {},
   "outputs": [
    {
     "name": "stdout",
     "output_type": "stream",
     "text": [
      "['mean radius' 'mean texture' 'mean perimeter' 'mean area'\n",
      " 'mean smoothness' 'mean compactness' 'mean concavity'\n",
      " 'mean concave points' 'mean symmetry' 'mean fractal dimension'\n",
      " 'radius error' 'texture error' 'perimeter error' 'area error'\n",
      " 'smoothness error' 'compactness error' 'concavity error'\n",
      " 'concave points error' 'symmetry error' 'fractal dimension error'\n",
      " 'worst radius' 'worst texture' 'worst perimeter' 'worst area'\n",
      " 'worst smoothness' 'worst compactness' 'worst concavity'\n",
      " 'worst concave points' 'worst symmetry' 'worst fractal dimension']\n",
      "['malignant' 'benign']\n"
     ]
    }
   ],
   "source": [
    "#print(cancer.feature_names)\n",
    "#print(cancer.target_names)"
   ]
  },
  {
   "cell_type": "code",
   "execution_count": 67,
   "id": "974fe52d-4a4c-43d9-a4da-b7d16cf03a81",
   "metadata": {},
   "outputs": [],
   "source": [
    "x = cancer.data\n",
    "y = cancer.target"
   ]
  },
  {
   "cell_type": "code",
   "execution_count": 68,
   "id": "22d2138e-0419-4287-86df-135dce61a83f",
   "metadata": {},
   "outputs": [],
   "source": [
    "x_train, x_test, y_train, y_test = sklearn.model_selection.train_test_split(x, y, test_size = 0.2)"
   ]
  },
  {
   "cell_type": "code",
   "execution_count": 69,
   "id": "9a75ef6a-982f-4cc0-836f-2397bb33a2d8",
   "metadata": {},
   "outputs": [
    {
     "name": "stdout",
     "output_type": "stream",
     "text": [
      "[[1.546e+01 1.948e+01 1.017e+02 ... 1.514e-01 2.837e-01 8.019e-02]\n",
      " [1.049e+01 1.929e+01 6.741e+01 ... 3.203e-02 2.826e-01 7.552e-02]\n",
      " [1.051e+01 2.019e+01 6.864e+01 ... 6.136e-02 2.383e-01 9.026e-02]\n",
      " ...\n",
      " [1.315e+01 1.534e+01 8.531e+01 ... 9.722e-02 3.849e-01 8.633e-02]\n",
      " [1.161e+01 1.602e+01 7.546e+01 ... 1.105e-01 2.787e-01 7.427e-02]\n",
      " [1.020e+01 1.748e+01 6.505e+01 ... 3.571e-02 2.868e-01 7.809e-02]] [0 1 1 1 0 0 0 1 1 1 1 1 1 1 1 1 0 0 1 1 1 1 1 1 1 1 0 1 1 1 1 0 1 1 1 1 1\n",
      " 0 1 0 0 0 0 1 1 1 1 0 1 0 0 1 0 0 1 1 1 0 1 1 1 1 0 0 1 1 0 0 0 1 1 1 0 1\n",
      " 0 0 0 1 1 1 1 1 1 1 0 0 1 1 1 0 0 0 1 1 0 1 0 0 0 0 0 1 1 0 1 0 1 0 0 0 1\n",
      " 1 1 0 1 1 1 0 1 1 1 1 0 0 0 0 1 1 1 1 0 0 1 0 1 1 1 1 1 0 0 0 1 1 1 1 1 1\n",
      " 0 0 1 1 1 1 1 0 0 1 1 0 0 1 0 0 0 1 0 1 1 1 1 0 0 0 1 1 0 1 0 1 1 1 1 1 1\n",
      " 1 1 1 1 0 1 1 1 1 1 1 0 1 1 1 1 1 1 1 1 1 0 0 1 1 1 1 1 1 0 1 1 0 1 0 1 0\n",
      " 0 1 1 1 1 1 0 0 0 0 1 0 1 0 1 1 1 0 0 0 1 0 0 1 1 1 1 1 0 0 1 1 1 0 1 0 1\n",
      " 0 1 0 1 1 0 1 0 1 1 1 1 1 1 0 1 1 1 1 1 1 1 0 1 0 1 0 1 1 1 1 1 0 1 0 1 1\n",
      " 1 0 1 0 1 0 0 1 0 0 0 0 1 1 1 1 0 0 1 1 0 1 1 1 1 0 1 1 1 1 0 0 1 1 1 0 1\n",
      " 1 1 1 1 0 1 0 0 0 1 1 1 0 1 0 1 1 1 1 1 1 1 1 1 0 0 0 1 1 1 0 1 1 1 0 1 0\n",
      " 1 1 0 1 0 1 1 1 1 1 0 1 1 0 1 1 1 1 1 1 0 0 0 0 0 1 0 0 0 0 1 0 1 1 1 1 0\n",
      " 1 1 0 1 0 1 1 0 1 1 1 1 0 0 1 0 1 1 1 1 0 1 0 1 0 0 1 0 1 0 1 0 0 0 1 1 1\n",
      " 1 0 0 0 0 0 1 1 1 1 1]\n"
     ]
    }
   ],
   "source": [
    "print(x_train, y_train)"
   ]
  },
  {
   "cell_type": "code",
   "execution_count": 70,
   "id": "e3313ae6-d9d7-4015-b667-57025180026a",
   "metadata": {},
   "outputs": [],
   "source": [
    "classes = ['malignant', 'benign']"
   ]
  },
  {
   "cell_type": "code",
   "execution_count": 74,
   "id": "c47e20c7-ada4-4e5d-b1c3-bd3b59e34727",
   "metadata": {},
   "outputs": [
    {
     "data": {
      "text/plain": [
       "KNeighborsClassifier(n_neighbors=13)"
      ]
     },
     "execution_count": 74,
     "metadata": {},
     "output_type": "execute_result"
    }
   ],
   "source": [
    "#clf = svm.SVC(kernel=\"poly\", C=1)\n",
    "clf = KNeighborsClassifier(n_neighbors = 13)\n",
    "clf.fit(x_train, y_train)"
   ]
  },
  {
   "cell_type": "code",
   "execution_count": 75,
   "id": "f80b2063-4118-46a8-a57d-77d870562a8e",
   "metadata": {},
   "outputs": [],
   "source": [
    "y_pred = clf.predict(x_test)"
   ]
  },
  {
   "cell_type": "code",
   "execution_count": 76,
   "id": "aea3dcb4-6eba-47ba-afe7-2046f95ecc26",
   "metadata": {},
   "outputs": [],
   "source": [
    "acc = metrics.accuracy_score(y_test, y_pred)"
   ]
  },
  {
   "cell_type": "code",
   "execution_count": 77,
   "id": "e962ef90-da73-4ccb-8d63-bff27b512965",
   "metadata": {},
   "outputs": [
    {
     "name": "stdout",
     "output_type": "stream",
     "text": [
      "0.9122807017543859\n"
     ]
    }
   ],
   "source": [
    "print(acc)"
   ]
  },
  {
   "cell_type": "code",
   "execution_count": null,
   "id": "dc0ac9f8-f0ff-440d-8ea8-29af68450aec",
   "metadata": {},
   "outputs": [],
   "source": []
  },
  {
   "cell_type": "code",
   "execution_count": null,
   "id": "48470823-7df7-4177-8f18-7d6c623183bb",
   "metadata": {},
   "outputs": [],
   "source": []
  }
 ],
 "metadata": {
  "kernelspec": {
   "display_name": "Python 3",
   "language": "python",
   "name": "python3"
  },
  "language_info": {
   "codemirror_mode": {
    "name": "ipython",
    "version": 3
   },
   "file_extension": ".py",
   "mimetype": "text/x-python",
   "name": "python",
   "nbconvert_exporter": "python",
   "pygments_lexer": "ipython3",
   "version": "3.8.8"
  }
 },
 "nbformat": 4,
 "nbformat_minor": 5
}
